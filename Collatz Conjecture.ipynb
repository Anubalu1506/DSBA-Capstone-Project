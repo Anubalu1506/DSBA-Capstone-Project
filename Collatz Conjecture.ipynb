{
  "nbformat": 4,
  "nbformat_minor": 0,
  "metadata": {
    "colab": {
      "provenance": [],
      "authorship_tag": "ABX9TyNunJmha6HjizO7uq2TXXIu",
      "include_colab_link": true
    },
    "kernelspec": {
      "name": "python3",
      "display_name": "Python 3"
    },
    "language_info": {
      "name": "python"
    }
  },
  "cells": [
    {
      "cell_type": "markdown",
      "metadata": {
        "id": "view-in-github",
        "colab_type": "text"
      },
      "source": [
        "<a href=\"https://colab.research.google.com/github/Anubalu1506/My-Project/blob/main/Collatz%20Conjecture.ipynb\" target=\"_parent\"><img src=\"https://colab.research.google.com/assets/colab-badge.svg\" alt=\"Open In Colab\"/></a>"
      ]
    },
    {
      "cell_type": "code",
      "execution_count": 2,
      "metadata": {
        "colab": {
          "base_uri": "https://localhost:8080/"
        },
        "id": "ACoQNucrE8eX",
        "outputId": "3fa012ef-32b6-4ed3-b511-2393fc00e7c1"
      },
      "outputs": [
        {
          "output_type": "stream",
          "name": "stdout",
          "text": [
            "Enter any number: 120\n",
            "\n",
            "Collatz sequence:\n",
            "120 → 60 → 30 → 15 → 46 → 23 → 70 → 35 → 106 → 53 → 160 → 80 → 40 → 20 → 10 → 5 → 16 → 8 → 4 → 2 → 1\n",
            "\n",
            " The sequence ends in the 4 → 2 → 1 loop.\n"
          ]
        }
      ],
      "source": [
        "def collatz_sequence(n):\n",
        "\n",
        "    sequence = [n]\n",
        "\n",
        "    while n != 1:\n",
        "        if n % 2 == 0:\n",
        "            n = n // 2\n",
        "        else:\n",
        "            n = 3 * n + 1\n",
        "        sequence.append(n)\n",
        "\n",
        "        if sequence[-3:] == [4, 2, 1]:\n",
        "            break\n",
        "\n",
        "    return sequence\n",
        "\n",
        "num = int(input(\"Enter any number: \"))\n",
        "result = collatz_sequence(num)\n",
        "\n",
        "print(\"\\nCollatz sequence:\")\n",
        "print(\" → \".join(map(str, result)))\n",
        "\n",
        "if result[-3:] == [4, 2, 1]:\n",
        "    print(\"\\n The sequence ends in the 4 → 2 → 1 loop.\")\n",
        "else:\n",
        "    print(\"\\n The sequence did not end in 4 → 2 → 1 (unexpected).\")\n"
      ]
    }
  ]
}