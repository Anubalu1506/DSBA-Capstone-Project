{
  "nbformat": 4,
  "nbformat_minor": 0,
  "metadata": {
    "colab": {
      "provenance": [],
      "authorship_tag": "ABX9TyNPxEq7XmticJ6SIIt2TjKf",
      "include_colab_link": true
    },
    "kernelspec": {
      "name": "python3",
      "display_name": "Python 3"
    },
    "language_info": {
      "name": "python"
    }
  },
  "cells": [
    {
      "cell_type": "markdown",
      "metadata": {
        "id": "view-in-github",
        "colab_type": "text"
      },
      "source": [
        "<a href=\"https://colab.research.google.com/github/Anubalu1506/DSBA-Capstone-Project/blob/main/Familarize%20yourself%20with%20data%20types%201.1.ipynb\" target=\"_parent\"><img src=\"https://colab.research.google.com/assets/colab-badge.svg\" alt=\"Open In Colab\"/></a>"
      ]
    },
    {
      "cell_type": "code",
      "source": [
        "# Ask the user for the number of siblings and convert it into an integer.\n",
        "num_siblings = int(input(\"Enter the number of siblings you have? \"))"
      ],
      "metadata": {
        "colab": {
          "base_uri": "https://localhost:8080/"
        },
        "id": "bx1aUx5A_8j4",
        "outputId": "dbb8eb56-f0d4-4c8d-9d13-da68dd60e68b"
      },
      "execution_count": 3,
      "outputs": [
        {
          "name": "stdout",
          "output_type": "stream",
          "text": [
            "Enter the number of siblings you have? 3\n"
          ]
        }
      ]
    },
    {
      "cell_type": "code",
      "source": [
        "# Initialize empty list\n",
        "# This list will store all the sibling names entered.\n",
        "\n",
        "sibling_names = []"
      ],
      "metadata": {
        "id": "EtBRRwj9CAfq"
      },
      "execution_count": 4,
      "outputs": []
    },
    {
      "cell_type": "code",
      "source": [
        "# Collect sibling names in a loop\n",
        "# Use a for loop based on the number of siblings.\n",
        "# In each iteration ask for a sibling's name and adds it to the list.\n",
        "\n",
        "for i in range(num_siblings):\n",
        "    name = input(f\"Enter the name of sibling {i+1}: \")\n",
        "    sibling_names.append(name)"
      ],
      "metadata": {
        "colab": {
          "base_uri": "https://localhost:8080/"
        },
        "id": "gpHVy1T0CKcX",
        "outputId": "88483046-01f7-421c-ae46-b87561c59bec"
      },
      "execution_count": 5,
      "outputs": [
        {
          "name": "stdout",
          "output_type": "stream",
          "text": [
            "Enter the name of sibling 1: Bala\n",
            "Enter the name of sibling 2: Vinayak\n",
            "Enter the name of sibling 3: Sharika\n"
          ]
        }
      ]
    },
    {
      "cell_type": "code",
      "source": [
        "# Print the total number of siblings and each sibling’s name starting with a dash (-) for clarity.\n",
        "\n",
        "print(\"\\nYou have\", num_siblings, \"siblings. Their names are:\")\n",
        "for name in sibling_names:\n",
        "    print(\"-\", name)"
      ],
      "metadata": {
        "colab": {
          "base_uri": "https://localhost:8080/"
        },
        "id": "R_x9j5_9CcfK",
        "outputId": "3d49058a-4e00-4f1c-815d-4e5dc2ec8705"
      },
      "execution_count": 6,
      "outputs": [
        {
          "output_type": "stream",
          "name": "stdout",
          "text": [
            "\n",
            "You have 3 siblings. Their names are:\n",
            "- Bala\n",
            "- Vinayak\n",
            "- Sharika\n"
          ]
        }
      ]
    }
  ]
}