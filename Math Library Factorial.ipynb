{
  "nbformat": 4,
  "nbformat_minor": 0,
  "metadata": {
    "colab": {
      "provenance": [],
      "authorship_tag": "ABX9TyMIhJYOilZ8rpXAyJXgfDQ2",
      "include_colab_link": true
    },
    "kernelspec": {
      "name": "python3",
      "display_name": "Python 3"
    },
    "language_info": {
      "name": "python"
    }
  },
  "cells": [
    {
      "cell_type": "markdown",
      "metadata": {
        "id": "view-in-github",
        "colab_type": "text"
      },
      "source": [
        "<a href=\"https://colab.research.google.com/github/Anubalu1506/My-Project/blob/main/Math%20Library%20Factorial.ipynb\" target=\"_parent\"><img src=\"https://colab.research.google.com/assets/colab-badge.svg\" alt=\"Open In Colab\"/></a>"
      ]
    },
    {
      "cell_type": "code",
      "source": [
        "import math"
      ],
      "metadata": {
        "id": "PBaCzmelD5ge"
      },
      "execution_count": 3,
      "outputs": []
    },
    {
      "cell_type": "code",
      "source": [
        "num = int(input(\"Enter an integer less than 20: \"))\n",
        "\n",
        "if num < 20 and num >= 0:\n",
        "    fact = math.factorial(num)\n",
        "    print(f\"The factorial of {num} is {fact}\")\n",
        "else:\n",
        "    print(\"Please enter a number smaller than 20.\")\n"
      ],
      "metadata": {
        "colab": {
          "base_uri": "https://localhost:8080/"
        },
        "id": "LvDAcZwoD9wE",
        "outputId": "a9f4e4a1-b06b-444e-abcf-9c19858eccca"
      },
      "execution_count": 5,
      "outputs": [
        {
          "output_type": "stream",
          "name": "stdout",
          "text": [
            "Enter an integer less than 20: 3\n",
            "The factorial of 3 is 6\n"
          ]
        }
      ]
    },
    {
      "cell_type": "code",
      "source": [
        "# a) Write a function that takes an integer and returns its factorial\n",
        "def factorial_function(n):\n",
        "    fact = 1\n",
        "    for i in range(1, n + 1):\n",
        "        fact *= i\n",
        "    return fact\n",
        "\n",
        "# b) Ask user to input a value for the variable\n",
        "num = int(input(\"Enter an integer less than 20: \"))\n",
        "\n",
        "if num < 20 and num >= 0:\n",
        "    custom_fact = factorial_function(num)\n",
        "    print(f\"The factorial of {num} is {custom_fact}\")\n",
        "else:\n",
        "    print(\"Please enter a number smaller than 20.\")\n",
        "\n",
        "# Also calculate using Python's math library\n",
        "library_fact = math.factorial(num)\n",
        "\n",
        "# c) Compare the results\n",
        "print(f\"Factorial of {num} using custom function: {custom_fact}\")\n",
        "print(f\"Factorial of {num} using math.factorial: {library_fact}\")\n",
        "\n",
        "if custom_fact == library_fact:\n",
        "    print(\"Both answers match!\")\n",
        "else:\n",
        "    print(\"The answers do not match.\")\n"
      ],
      "metadata": {
        "colab": {
          "base_uri": "https://localhost:8080/"
        },
        "id": "iy9Px_0ZE8_a",
        "outputId": "346d235f-8ef7-49ca-d596-76f5e0c2fd28"
      },
      "execution_count": 6,
      "outputs": [
        {
          "output_type": "stream",
          "name": "stdout",
          "text": [
            "Enter an integer less than 20: 10\n",
            "The factorial of 10 is 3628800\n",
            "Factorial of 10 using custom function: 3628800\n",
            "Factorial of 10 using math.factorial: 3628800\n",
            "Both answers match!\n"
          ]
        }
      ]
    }
  ]
}